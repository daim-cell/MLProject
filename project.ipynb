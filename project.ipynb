{
 "cells": [
  {
   "cell_type": "code",
   "execution_count": 58,
   "metadata": {},
   "outputs": [],
   "source": [
    "import pandas as pd\n",
    "import numpy as np\n",
    "import operator\n",
    "from sklearn.neural_network import MLPClassifier"
   ]
  },
  {
   "cell_type": "code",
   "execution_count": 7,
   "metadata": {},
   "outputs": [
    {
     "data": {
      "text/html": [
       "<div>\n",
       "<style scoped>\n",
       "    .dataframe tbody tr th:only-of-type {\n",
       "        vertical-align: middle;\n",
       "    }\n",
       "\n",
       "    .dataframe tbody tr th {\n",
       "        vertical-align: top;\n",
       "    }\n",
       "\n",
       "    .dataframe thead th {\n",
       "        text-align: right;\n",
       "    }\n",
       "</style>\n",
       "<table border=\"1\" class=\"dataframe\">\n",
       "  <thead>\n",
       "    <tr style=\"text-align: right;\">\n",
       "      <th></th>\n",
       "      <th>Province/State</th>\n",
       "      <th>Country/Region</th>\n",
       "      <th>Lat</th>\n",
       "      <th>Long</th>\n",
       "      <th>1/22/20</th>\n",
       "      <th>1/23/20</th>\n",
       "      <th>1/24/20</th>\n",
       "      <th>1/25/20</th>\n",
       "      <th>1/26/20</th>\n",
       "      <th>1/27/20</th>\n",
       "      <th>...</th>\n",
       "      <th>5/21/20</th>\n",
       "      <th>5/22/20</th>\n",
       "      <th>5/23/20</th>\n",
       "      <th>5/24/20</th>\n",
       "      <th>5/25/20</th>\n",
       "      <th>5/26/20</th>\n",
       "      <th>5/27/20</th>\n",
       "      <th>5/28/20</th>\n",
       "      <th>5/29/20</th>\n",
       "      <th>5/30/20</th>\n",
       "    </tr>\n",
       "  </thead>\n",
       "  <tbody>\n",
       "    <tr>\n",
       "      <th>0</th>\n",
       "      <td>NaN</td>\n",
       "      <td>Afghanistan</td>\n",
       "      <td>33.0000</td>\n",
       "      <td>65.0000</td>\n",
       "      <td>0</td>\n",
       "      <td>0</td>\n",
       "      <td>0</td>\n",
       "      <td>0</td>\n",
       "      <td>0</td>\n",
       "      <td>0</td>\n",
       "      <td>...</td>\n",
       "      <td>8676</td>\n",
       "      <td>9216</td>\n",
       "      <td>9998</td>\n",
       "      <td>10582</td>\n",
       "      <td>11173</td>\n",
       "      <td>11831</td>\n",
       "      <td>12456</td>\n",
       "      <td>13036</td>\n",
       "      <td>13659</td>\n",
       "      <td>14525</td>\n",
       "    </tr>\n",
       "    <tr>\n",
       "      <th>1</th>\n",
       "      <td>NaN</td>\n",
       "      <td>Albania</td>\n",
       "      <td>41.1533</td>\n",
       "      <td>20.1683</td>\n",
       "      <td>0</td>\n",
       "      <td>0</td>\n",
       "      <td>0</td>\n",
       "      <td>0</td>\n",
       "      <td>0</td>\n",
       "      <td>0</td>\n",
       "      <td>...</td>\n",
       "      <td>969</td>\n",
       "      <td>981</td>\n",
       "      <td>989</td>\n",
       "      <td>998</td>\n",
       "      <td>1004</td>\n",
       "      <td>1029</td>\n",
       "      <td>1050</td>\n",
       "      <td>1076</td>\n",
       "      <td>1099</td>\n",
       "      <td>1122</td>\n",
       "    </tr>\n",
       "    <tr>\n",
       "      <th>2</th>\n",
       "      <td>NaN</td>\n",
       "      <td>Algeria</td>\n",
       "      <td>28.0339</td>\n",
       "      <td>1.6596</td>\n",
       "      <td>0</td>\n",
       "      <td>0</td>\n",
       "      <td>0</td>\n",
       "      <td>0</td>\n",
       "      <td>0</td>\n",
       "      <td>0</td>\n",
       "      <td>...</td>\n",
       "      <td>7728</td>\n",
       "      <td>7918</td>\n",
       "      <td>8113</td>\n",
       "      <td>8306</td>\n",
       "      <td>8503</td>\n",
       "      <td>8697</td>\n",
       "      <td>8857</td>\n",
       "      <td>8997</td>\n",
       "      <td>9134</td>\n",
       "      <td>9267</td>\n",
       "    </tr>\n",
       "    <tr>\n",
       "      <th>3</th>\n",
       "      <td>NaN</td>\n",
       "      <td>Andorra</td>\n",
       "      <td>42.5063</td>\n",
       "      <td>1.5218</td>\n",
       "      <td>0</td>\n",
       "      <td>0</td>\n",
       "      <td>0</td>\n",
       "      <td>0</td>\n",
       "      <td>0</td>\n",
       "      <td>0</td>\n",
       "      <td>...</td>\n",
       "      <td>762</td>\n",
       "      <td>762</td>\n",
       "      <td>762</td>\n",
       "      <td>762</td>\n",
       "      <td>763</td>\n",
       "      <td>763</td>\n",
       "      <td>763</td>\n",
       "      <td>763</td>\n",
       "      <td>764</td>\n",
       "      <td>764</td>\n",
       "    </tr>\n",
       "    <tr>\n",
       "      <th>4</th>\n",
       "      <td>NaN</td>\n",
       "      <td>Angola</td>\n",
       "      <td>-11.2027</td>\n",
       "      <td>17.8739</td>\n",
       "      <td>0</td>\n",
       "      <td>0</td>\n",
       "      <td>0</td>\n",
       "      <td>0</td>\n",
       "      <td>0</td>\n",
       "      <td>0</td>\n",
       "      <td>...</td>\n",
       "      <td>58</td>\n",
       "      <td>60</td>\n",
       "      <td>61</td>\n",
       "      <td>69</td>\n",
       "      <td>70</td>\n",
       "      <td>70</td>\n",
       "      <td>71</td>\n",
       "      <td>74</td>\n",
       "      <td>81</td>\n",
       "      <td>84</td>\n",
       "    </tr>\n",
       "  </tbody>\n",
       "</table>\n",
       "<p>5 rows × 134 columns</p>\n",
       "</div>"
      ],
      "text/plain": [
       "  Province/State Country/Region      Lat     Long  1/22/20  1/23/20  1/24/20  \\\n",
       "0            NaN    Afghanistan  33.0000  65.0000        0        0        0   \n",
       "1            NaN        Albania  41.1533  20.1683        0        0        0   \n",
       "2            NaN        Algeria  28.0339   1.6596        0        0        0   \n",
       "3            NaN        Andorra  42.5063   1.5218        0        0        0   \n",
       "4            NaN         Angola -11.2027  17.8739        0        0        0   \n",
       "\n",
       "   1/25/20  1/26/20  1/27/20  ...  5/21/20  5/22/20  5/23/20  5/24/20  \\\n",
       "0        0        0        0  ...     8676     9216     9998    10582   \n",
       "1        0        0        0  ...      969      981      989      998   \n",
       "2        0        0        0  ...     7728     7918     8113     8306   \n",
       "3        0        0        0  ...      762      762      762      762   \n",
       "4        0        0        0  ...       58       60       61       69   \n",
       "\n",
       "   5/25/20  5/26/20  5/27/20  5/28/20  5/29/20  5/30/20  \n",
       "0    11173    11831    12456    13036    13659    14525  \n",
       "1     1004     1029     1050     1076     1099     1122  \n",
       "2     8503     8697     8857     8997     9134     9267  \n",
       "3      763      763      763      763      764      764  \n",
       "4       70       70       71       74       81       84  \n",
       "\n",
       "[5 rows x 134 columns]"
      ]
     },
     "execution_count": 7,
     "metadata": {},
     "output_type": "execute_result"
    }
   ],
   "source": [
    "df = pd.read_csv(\"time_series_covid_19_confirmed.csv\", sep=\",\")\n",
    "df.head()"
   ]
  },
  {
   "cell_type": "code",
   "execution_count": 46,
   "metadata": {},
   "outputs": [
    {
     "name": "stdout",
     "output_type": "stream",
     "text": [
      "Saudi Arabia 0.9989666872972038\n",
      "Qatar 0.9987397834693383\n",
      "Colombia 0.9987031556505498\n",
      "Peru 0.9986075757030275\n",
      "Egypt 0.9985861314636708\n"
     ]
    }
   ],
   "source": [
    "\n",
    "coun=df.set_index('Country/Region').iloc[:,3:-3]\n",
    "countries=coun.index.drop_duplicates()\n",
    "coun=coun.T\n",
    "pak_data=coun['Pakistan']\n",
    "correlation={}\n",
    "for country in countries:\n",
    "    dfr1=coun[country]\n",
    "    if isinstance(dfr1,pd.core.series.Series):\n",
    "            x_ax=dfr1\n",
    "        \n",
    "    else:\n",
    "            x_ax=dfr1.sum(axis=1)\n",
    "    \n",
    "    corr=np.corrcoef(pak_data,x_ax )\n",
    "    correlation[country]=corr[0][1]\n",
    "\n",
    "sort_corr = sorted(correlation.items(), key=operator.itemgetter(1),reverse=True)\n",
    "selected_countries=[]\n",
    "for i in range(5):\n",
    "    print(sort_corr[i+1][0],sort_corr[i+1][1])\n",
    "    selected_countries.append(sort_corr[i+1][0])\n"
   ]
  },
  {
   "cell_type": "code",
   "execution_count": 79,
   "metadata": {},
   "outputs": [],
   "source": [
    "def prepare_data(country):\n",
    "    train=[]\n",
    "    label=[]\n",
    "    country_data=coun[country]\n",
    "    days=0\n",
    "    for data in country_data:\n",
    "        if (data > 0):\n",
    "            days+=1\n",
    "            train.append([days])\n",
    "            label.append(data)\n",
    "    return train,label"
   ]
  },
  {
   "cell_type": "code",
   "execution_count": 89,
   "metadata": {},
   "outputs": [
    {
     "name": "stderr",
     "output_type": "stream",
     "text": [
      "C:\\Users\\Daim\\Anaconda3\\lib\\site-packages\\sklearn\\neural_network\\multilayer_perceptron.py:566: ConvergenceWarning: Stochastic Optimizer: Maximum iterations (1000) reached and the optimization hasn't converged yet.\n",
      "  % self.max_iter, ConvergenceWarning)\n"
     ]
    },
    {
     "name": "stdout",
     "output_type": "stream",
     "text": [
      "[78541]\n"
     ]
    },
    {
     "name": "stderr",
     "output_type": "stream",
     "text": [
      "C:\\Users\\Daim\\Anaconda3\\lib\\site-packages\\sklearn\\neural_network\\multilayer_perceptron.py:566: ConvergenceWarning: Stochastic Optimizer: Maximum iterations (1000) reached and the optimization hasn't converged yet.\n",
      "  % self.max_iter, ConvergenceWarning)\n"
     ]
    },
    {
     "name": "stdout",
     "output_type": "stream",
     "text": [
      "[47207]\n"
     ]
    },
    {
     "name": "stderr",
     "output_type": "stream",
     "text": [
      "C:\\Users\\Daim\\Anaconda3\\lib\\site-packages\\sklearn\\neural_network\\multilayer_perceptron.py:566: ConvergenceWarning: Stochastic Optimizer: Maximum iterations (1000) reached and the optimization hasn't converged yet.\n",
      "  % self.max_iter, ConvergenceWarning)\n"
     ]
    },
    {
     "name": "stdout",
     "output_type": "stream",
     "text": [
      "[23003]\n"
     ]
    },
    {
     "name": "stderr",
     "output_type": "stream",
     "text": [
      "C:\\Users\\Daim\\Anaconda3\\lib\\site-packages\\sklearn\\neural_network\\multilayer_perceptron.py:566: ConvergenceWarning: Stochastic Optimizer: Maximum iterations (1000) reached and the optimization hasn't converged yet.\n",
      "  % self.max_iter, ConvergenceWarning)\n"
     ]
    },
    {
     "name": "stdout",
     "output_type": "stream",
     "text": [
      "[135905]\n",
      "[11228]\n"
     ]
    },
    {
     "name": "stderr",
     "output_type": "stream",
     "text": [
      "C:\\Users\\Daim\\Anaconda3\\lib\\site-packages\\sklearn\\neural_network\\multilayer_perceptron.py:566: ConvergenceWarning: Stochastic Optimizer: Maximum iterations (1000) reached and the optimization hasn't converged yet.\n",
      "  % self.max_iter, ConvergenceWarning)\n"
     ]
    }
   ],
   "source": [
    "clf = MLPClassifier(hidden_layer_sizes=(8,12,16),max_iter=1000)\n",
    "for country in selected_countries:\n",
    "    train,label=prepare_data(country)\n",
    "    clf.fit(train,label)\n",
    "    print(clf.predict([[92]]))"
   ]
  },
  {
   "cell_type": "code",
   "execution_count": 84,
   "metadata": {},
   "outputs": [
    {
     "name": "stdout",
     "output_type": "stream",
     "text": [
      "[[1], [2], [3], [4], [5], [6], [7], [8], [9], [10], [11], [12], [13], [14], [15], [16], [17], [18], [19], [20], [21], [22], [23], [24], [25], [26], [27], [28], [29], [30], [31], [32], [33], [34], [35], [36], [37], [38], [39], [40], [41], [42], [43], [44], [45], [46], [47], [48], [49], [50], [51], [52], [53], [54], [55], [56], [57], [58], [59], [60], [61], [62], [63], [64], [65], [66], [67], [68], [69], [70], [71], [72], [73], [74], [75], [76], [77], [78], [79], [80], [81], [82], [83], [84], [85], [86], [87], [88], [89], [90], [91], [92]] [2, 2, 2, 4, 4, 4, 5, 5, 5, 6, 6, 6, 6, 16, 19, 20, 28, 31, 53, 136, 236, 299, 454, 501, 730, 776, 875, 972, 1063, 1201, 1373, 1495, 1597, 1717, 1938, 2118, 2421, 2686, 2818, 3157, 3766, 4035, 4263, 4489, 4695, 5011, 5230, 5496, 5837, 6383, 6919, 7025, 7638, 8348, 8418, 9565, 10076, 11155, 11940, 12723, 13328, 13915, 14612, 15525, 16817, 18114, 19103, 20084, 20941, 22049, 24073, 24644, 26435, 28736, 30334, 32081, 34336, 35298, 35788, 38799, 38799, 40151, 42125, 43966, 45898, 48091, 50694, 52437, 54601, 56349, 57705, 59151]\n"
     ]
    }
   ],
   "source": [
    "test,labely=prepare_data('Pakistan')\n",
    "print(test,labely)"
   ]
  }
 ],
 "metadata": {
  "kernelspec": {
   "display_name": "Python 3",
   "language": "python",
   "name": "python3"
  },
  "language_info": {
   "codemirror_mode": {
    "name": "ipython",
    "version": 3
   },
   "file_extension": ".py",
   "mimetype": "text/x-python",
   "name": "python",
   "nbconvert_exporter": "python",
   "pygments_lexer": "ipython3",
   "version": "3.7.4"
  }
 },
 "nbformat": 4,
 "nbformat_minor": 2
}
